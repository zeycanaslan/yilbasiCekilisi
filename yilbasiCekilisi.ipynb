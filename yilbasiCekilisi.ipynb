{
 "cells": [
  {
   "cell_type": "code",
   "execution_count": 14,
   "id": "1c8c6294",
   "metadata": {},
   "outputs": [
    {
     "name": "stdout",
     "output_type": "stream",
     "text": [
      "dilek kişisi şu kişiye hediye alacak: ayse\n",
      "zeycan kişisi şu kişiye hediye alacak: dilek\n",
      "gulhan kişisi şu kişiye hediye alacak: zeycan\n",
      "zubeyde kişisi şu kişiye hediye alacak: iremsu\n",
      "ayse kişisi şu kişiye hediye alacak: zubeyde\n",
      "iremsu kişisi şu kişiye hediye alacak: gulhan\n"
     ]
    }
   ],
   "source": [
    "import random\n",
    "\n",
    "isimler = [\"zeycan\", \"iremsu\", \"gulhan\", \"zubeyde\", \"dilek\", \"ayse\"]\n",
    "\n",
    "def hediye_cekilisi():\n",
    "    alanlar = isimler.copy()\n",
    "    verenler = isimler.copy()\n",
    "\n",
    "    while len(alanlar) > 0:\n",
    "        alici_index = random.randint(0, len(alanlar) - 1)\n",
    "        verici_index = random.randint(0, len(verenler) - 1)\n",
    "\n",
    "        while alanlar[alici_index] == verenler[verici_index]:\n",
    "            alici_index = random.randint(0, len(alanlar) - 1)\n",
    "            verici_index = random.randint(0, len(verenler) - 1)\n",
    "\n",
    "        print(alanlar[alici_index], \"kişisi şu kişiye hediye alacak:\", verenler[verici_index])\n",
    "        del alanlar[alici_index]\n",
    "        del verenler[verici_index]\n",
    "\n",
    "hediye_cekilisi()\n"
   ]
  }
 ],
 "metadata": {
  "kernelspec": {
   "display_name": "Python 3 (ipykernel)",
   "language": "python",
   "name": "python3"
  },
  "language_info": {
   "codemirror_mode": {
    "name": "ipython",
    "version": 3
   },
   "file_extension": ".py",
   "mimetype": "text/x-python",
   "name": "python",
   "nbconvert_exporter": "python",
   "pygments_lexer": "ipython3",
   "version": "3.11.5"
  }
 },
 "nbformat": 4,
 "nbformat_minor": 5
}
